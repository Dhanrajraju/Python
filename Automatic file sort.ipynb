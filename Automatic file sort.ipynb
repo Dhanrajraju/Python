{
 "cells": [
  {
   "cell_type": "markdown",
   "id": "3507ff77",
   "metadata": {},
   "source": [
    "# Automatic File Sorter in File Explorer\n",
    "\n",
    "Create the folders and put the files which should belong there."
   ]
  },
  {
   "cell_type": "code",
   "execution_count": 1,
   "id": "e834f89e",
   "metadata": {},
   "outputs": [],
   "source": [
    "import os, shutil"
   ]
  },
  {
   "cell_type": "code",
   "execution_count": 2,
   "id": "74ee7b93",
   "metadata": {},
   "outputs": [],
   "source": [
    "#path where the fikes to be sorted\n",
    "path = r\"C:/Users/Raju/Desktop/file sort/\""
   ]
  },
  {
   "cell_type": "code",
   "execution_count": 3,
   "id": "3f548457",
   "metadata": {},
   "outputs": [],
   "source": [
    "#list out the files present in the path\n",
    "file_name = os.listdir(path)"
   ]
  },
  {
   "cell_type": "code",
   "execution_count": 6,
   "id": "56236b29",
   "metadata": {},
   "outputs": [
    {
     "name": "stdout",
     "output_type": "stream",
     "text": [
      "no file present/no valid file present/there are few invalied format files\n",
      "no file present/no valid file present/there are few invalied format files\n",
      "no file present/no valid file present/there are few invalied format files\n"
     ]
    }
   ],
   "source": [
    "#create folders to sort the files\n",
    "folder_names = ['xls files','image files', 'text files']\n",
    "for loop in range(0,3):\n",
    "    if not os.path.exists(path + folder_names[loop]):\n",
    "        os.makedirs(path + folder_names[loop])\n",
    "\n",
    "#sort which extenstion file to go in respective folder \n",
    "for file in file_name:\n",
    "    if \".xlsx\" in file and not os.path.exists(path + \"xls files/\"+file):\n",
    "        shutil.move(path+file,path + \"xls files/\"+file)\n",
    "    elif \".jpg\" in file and not os.path.exists(path + \"image files/\"+file):\n",
    "        shutil.move(path+file,path + \"image files/\"+file)\n",
    "    elif \".txt\" in file and not os.path.exists(path + \"text files/\"+file):\n",
    "        shutil.move(path+file,path + \"text files/\"+file)\n",
    "    else:\n",
    "        print(\"no file present/no valid file present/there are few invalied format files\")"
   ]
  },
  {
   "cell_type": "markdown",
   "id": "ddb5888e",
   "metadata": {},
   "source": [
    "                                         by Dhanraj"
   ]
  },
  {
   "cell_type": "markdown",
   "id": "e3774e20",
   "metadata": {},
   "source": [
    "                             instagram: Technomology_an_ai_company "
   ]
  },
  {
   "cell_type": "code",
   "execution_count": null,
   "id": "3efd0560",
   "metadata": {},
   "outputs": [],
   "source": []
  }
 ],
 "metadata": {
  "kernelspec": {
   "display_name": "Python 3 (ipykernel)",
   "language": "python",
   "name": "python3"
  },
  "language_info": {
   "codemirror_mode": {
    "name": "ipython",
    "version": 3
   },
   "file_extension": ".py",
   "mimetype": "text/x-python",
   "name": "python",
   "nbconvert_exporter": "python",
   "pygments_lexer": "ipython3",
   "version": "3.10.9"
  }
 },
 "nbformat": 4,
 "nbformat_minor": 5
}
