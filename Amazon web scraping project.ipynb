{
 "cells": [
  {
   "cell_type": "markdown",
   "id": "3150a81f",
   "metadata": {},
   "source": [
    "# Amazon Web scraping\n",
    "\n",
    "Amazon echo prize tracker\n",
    "Using this project we can get the real world data from any website just by aquiring the ID of the element with the help of html (inspect).\n",
    "This project is set to run automatically and fet data using the timer mentioned below.\n"
   ]
  },
  {
   "cell_type": "code",
   "execution_count": 22,
   "id": "6ba798af",
   "metadata": {},
   "outputs": [],
   "source": [
    "#import libraries\n",
    "\n",
    "from bs4 import BeautifulSoup\n",
    "import requests\n",
    "import smtplib\n",
    "import time\n",
    "import datetime"
   ]
  },
  {
   "cell_type": "code",
   "execution_count": 34,
   "id": "914e02f1",
   "metadata": {},
   "outputs": [],
   "source": [
    "# connect to website\n",
    "\n",
    "url = 'https://www.amazon.in/All-new-Echo-Dot-3rd-Gen/dp/B07PDHTHNN/ref=sr_1_18?hvadid=72499124504037&hvbmt=be&hvdev=c&hvqmt=e&keywords=-amazon&qid=1684912781&sr=8-18'\n",
    "\n",
    "headers = {\"User-Agent\": \"Mozilla/5.0 (Windows NT 10.0; Win64; x64) AppleWebKit/537.36 (KHTML, like Gecko) Chrome/58.0.3029.110 Safari/537.36 Edge/16.16299\", \"Accept-Encoding\":\"gzip, deflate\", \"Accept\":\"text/html,application/xhtml+xml,application/xml;q=0.9,*/*;q=0.8\", \"DNT\":\"1\",\"Connection\":\"close\", \"Upgrade-Insecure-Requests\":\"1\"}\n",
    "\n",
    "page = requests.get(url, headers=headers)\n",
    "\n",
    "soup1 = BeautifulSoup(page.content,\"html.parser\")\n",
    "\n",
    "soup2 = BeautifulSoup(soup1.prettify(),\"html.parser\")\n",
    "\n",
    "title = soup2.find(id='productTitle').get_text()\n",
    "\n",
    "\n",
    "price = soup2.find(id='corePrice_feature_div').get_text()\n",
    "\n",
    "print (title)\n",
    "\n",
    "print(price)\n"
   ]
  },
  {
   "cell_type": "code",
   "execution_count": 24,
   "id": "bffea457",
   "metadata": {},
   "outputs": [
    {
     "name": "stdout",
     "output_type": "stream",
     "text": [
      "Echo Dot (3rd Gen), Certified Refurbished, Black – Improved smart speaker with Alexa – Like new, backed with 1-year warranty\n",
      "2,999.00\n"
     ]
    }
   ],
   "source": [
    "#align and remove junk &spaces in data\n",
    "price = price.strip()[1:9]\n",
    "title = title.strip()\n",
    "\n",
    "print(title)\n",
    "print(price)"
   ]
  },
  {
   "cell_type": "code",
   "execution_count": 25,
   "id": "0f582b25",
   "metadata": {},
   "outputs": [
    {
     "name": "stdout",
     "output_type": "stream",
     "text": [
      "2023-05-25\n",
      "11:23 AM\n"
     ]
    }
   ],
   "source": [
    "#get real-time time and date \n",
    "import datetime\n",
    "\n",
    "today = datetime.date.today()\n",
    "current_time = datetime.datetime.now().strftime(\"%I:%M %p\")\n",
    "print(today)\n",
    "print(current_time)"
   ]
  },
  {
   "cell_type": "code",
   "execution_count": 26,
   "id": "60e4b05c",
   "metadata": {},
   "outputs": [],
   "source": [
    "#create CSV sheet and insert the data (first time only insert header)\n",
    "\n",
    "import csv\n",
    "\n",
    "header = ['Title', 'Price', 'Date','Time']    #insert table with 4 columns\n",
    "data = [title, price, today, current_time]    #get data from the variables\n",
    "\n",
    "\n",
    "with open('C:/Users/Raju/Desktop/Datasets/AmazonwebScrap.csv','w',newline='',encoding='UTF8') as f:\n",
    "    writer = csv.writer(f)\n",
    "    writer.writerow(header)\n",
    "    writer.writerow(data)"
   ]
  },
  {
   "cell_type": "code",
   "execution_count": 27,
   "id": "7e58aafa",
   "metadata": {
    "scrolled": true
   },
   "outputs": [
    {
     "name": "stdout",
     "output_type": "stream",
     "text": [
      "                                               Title     Price        Date  \\\n",
      "0  Echo Dot (3rd Gen), Certified Refurbished, Bla...  2,999.00  2023-05-25   \n",
      "\n",
      "       Time  \n",
      "0  11:23 AM  \n"
     ]
    }
   ],
   "source": [
    "#display the tables and data pf created CSv via pandas\n",
    "\n",
    "import pandas as pd\n",
    "\n",
    "df = pd.read_csv(r'C:/Users/Raju/Desktop/Datasets/AmazonwebScrap.csv')\n",
    "print (df)"
   ]
  },
  {
   "cell_type": "code",
   "execution_count": 28,
   "id": "df9ad021",
   "metadata": {},
   "outputs": [],
   "source": [
    "#appending data to CSV{only data is sent}\n",
    "with open('C:/Users/Raju/Desktop/Datasets/AmazonwebScrap.csv','a+',newline='',encoding='UTF8') as f:\n",
    "    writer = csv.writer(f)\n",
    "    writer.writerow(data)\n"
   ]
  },
  {
   "cell_type": "markdown",
   "id": "25686fdd",
   "metadata": {},
   "source": [
    "# Loop between the below code\n",
    "Once the table is created and header is initiated run the below code to enter data"
   ]
  },
  {
   "cell_type": "code",
   "execution_count": 31,
   "id": "831a2d0d",
   "metadata": {},
   "outputs": [],
   "source": [
    "def check_price():\n",
    "    url = 'https://www.amazon.in/All-new-Echo-Dot-3rd-Gen/dp/B07PDHTHNN/ref=sr_1_18?hvadid=72499124504037&hvbmt=be&hvdev=c&hvqmt=e&keywords=-amazon&qid=1684912781&sr=8-18'\n",
    "\n",
    "    headers = {\"User-Agent\": \"Mozilla/5.0 (Windows NT 10.0; Win64; x64) AppleWebKit/537.36 (KHTML, like Gecko) Chrome/58.0.3029.110 Safari/537.36 Edge/16.16299\", \"Accept-Encoding\":\"gzip, deflate\", \"Accept\":\"text/html,application/xhtml+xml,application/xml;q=0.9,*/*;q=0.8\", \"DNT\":\"1\",\"Connection\":\"close\", \"Upgrade-Insecure-Requests\":\"1\"}\n",
    "\n",
    "    page = requests.get(url, headers=headers)\n",
    "\n",
    "    soup1 = BeautifulSoup(page.content,\"html.parser\")\n",
    "\n",
    "    soup2 = BeautifulSoup(soup1.prettify(),\"html.parser\")\n",
    "\n",
    "    title = soup2.find(id='productTitle').get_text()\n",
    "\n",
    "    price = soup2.find(id='corePrice_feature_div').get_text()\n",
    "    \n",
    "    price = price.strip()[1:9]\n",
    "    title = title.strip()\n",
    "    \n",
    "    import datetime\n",
    "\n",
    "    today = datetime.date.today()\n",
    "    current_time = datetime.datetime.now().strftime(\"%I:%M %p\")\n",
    "    \n",
    "    import csv\n",
    "\n",
    "    header = ['Title', 'Price', 'Date','Time']\n",
    "    data = [title, price, today, current_time]\n",
    "    \n",
    "    #appending data to CSV\n",
    "    with open('C:/Users/Raju/Desktop/Datasets/AmazonwebScrap.csv','a+',newline='',encoding='UTF8') as f:\n",
    "        writer = csv.writer(f)\n",
    "        writer.writerow(data)\n",
    "        \n",
    "#     if(price < 2999):\n",
    "#         send_mail()\n",
    "    "
   ]
  },
  {
   "cell_type": "markdown",
   "id": "42d5b6cb",
   "metadata": {},
   "source": [
    "                                          Timer control\n",
    "                                     Set the sleep time below"
   ]
  },
  {
   "cell_type": "code",
   "execution_count": 32,
   "id": "0afcf6d7",
   "metadata": {
    "scrolled": true
   },
   "outputs": [
    {
     "ename": "KeyboardInterrupt",
     "evalue": "",
     "output_type": "error",
     "traceback": [
      "\u001b[1;31m---------------------------------------------------------------------------\u001b[0m",
      "\u001b[1;31mKeyboardInterrupt\u001b[0m                         Traceback (most recent call last)",
      "Cell \u001b[1;32mIn[32], line 3\u001b[0m\n\u001b[0;32m      1\u001b[0m \u001b[38;5;28;01mwhile\u001b[39;00m(\u001b[38;5;28;01mTrue\u001b[39;00m):\n\u001b[0;32m      2\u001b[0m     check_price()\n\u001b[1;32m----> 3\u001b[0m     \u001b[43mtime\u001b[49m\u001b[38;5;241;43m.\u001b[39;49m\u001b[43msleep\u001b[49m\u001b[43m(\u001b[49m\u001b[38;5;241;43m60\u001b[39;49m\u001b[43m)\u001b[49m\n",
      "\u001b[1;31mKeyboardInterrupt\u001b[0m: "
     ]
    }
   ],
   "source": [
    "while(True):\n",
    "    check_price()\n",
    "    time.sleep(100)"
   ]
  },
  {
   "cell_type": "markdown",
   "id": "6916199f",
   "metadata": {},
   "source": [
    "                                          # OUTPUT\n",
    "                                  display the table using pandas"
   ]
  },
  {
   "cell_type": "code",
   "execution_count": 33,
   "id": "274551b4",
   "metadata": {
    "scrolled": true
   },
   "outputs": [
    {
     "name": "stdout",
     "output_type": "stream",
     "text": [
      "                                               Title     Price        Date  \\\n",
      "0  Echo Dot (3rd Gen), Certified Refurbished, Bla...  2,999.00  2023-05-25   \n",
      "1  Echo Dot (3rd Gen), Certified Refurbished, Bla...  2,999.00  2023-05-25   \n",
      "2  Echo Dot (3rd Gen), Certified Refurbished, Bla...  2,999.00  2023-05-25   \n",
      "3  Echo Dot (3rd Gen), Certified Refurbished, Bla...  2,999.00  2023-05-25   \n",
      "\n",
      "       Time  \n",
      "0  11:23 AM  \n",
      "1  11:23 AM  \n",
      "2  11:23 AM  \n",
      "3  11:24 AM  \n"
     ]
    }
   ],
   "source": [
    "import pandas as pd\n",
    "\n",
    "df = pd.read_csv(r'C:/Users/Raju/Desktop/Datasets/AmazonwebScrap.csv')\n",
    "print (df)"
   ]
  },
  {
   "cell_type": "markdown",
   "id": "87559dca",
   "metadata": {},
   "source": [
    "# To send mail \n",
    "\n",
    "Send a mail when the condition is met."
   ]
  },
  {
   "cell_type": "code",
   "execution_count": null,
   "id": "7acb6f44",
   "metadata": {},
   "outputs": [],
   "source": [
    "\n",
    "#additional feature add a mail notification\n",
    "\n",
    "def send_mail():\n",
    "    server = smtplib.SMTP_SSL('smtp.gmail.com',465)\n",
    "    server.ehlo()\n",
    "    server.ehlo()\n",
    "    server.login('rajurahul1318@gmail.com','dhanraj.n')\n",
    "    \n",
    "    subject = \"The echo alexa has reduced the prize below 2999!\"\n",
    "    body = \"Dhanraj, time to buy the product\"\n",
    "    \n",
    "    msg = f\"subject: {subject}\\n\\n{body}\"\n",
    "    \n",
    "    server.sendmail( 'rajurahul1318@gmail.com',msg)"
   ]
  },
  {
   "cell_type": "markdown",
   "id": "02852549",
   "metadata": {},
   "source": [
    "                                        By Dhanraj"
   ]
  },
  {
   "cell_type": "markdown",
   "id": "45865c70",
   "metadata": {},
   "source": [
    "                                https://github.com/Dhanrajraju"
   ]
  },
  {
   "cell_type": "markdown",
   "id": "d6aa4e5d",
   "metadata": {},
   "source": [
    "                                "
   ]
  },
  {
   "cell_type": "code",
   "execution_count": null,
   "id": "1cefaeac",
   "metadata": {},
   "outputs": [],
   "source": []
  }
 ],
 "metadata": {
  "kernelspec": {
   "display_name": "Python 3 (ipykernel)",
   "language": "python",
   "name": "python3"
  },
  "language_info": {
   "codemirror_mode": {
    "name": "ipython",
    "version": 3
   },
   "file_extension": ".py",
   "mimetype": "text/x-python",
   "name": "python",
   "nbconvert_exporter": "python",
   "pygments_lexer": "ipython3",
   "version": "3.10.9"
  }
 },
 "nbformat": 4,
 "nbformat_minor": 5
}
