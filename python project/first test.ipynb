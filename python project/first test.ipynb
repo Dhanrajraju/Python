{
 "cells": [
  {
   "cell_type": "code",
   "execution_count": 1,
   "id": "e08211fb",
   "metadata": {},
   "outputs": [
    {
     "name": "stdout",
     "output_type": "stream",
     "text": [
      "Hello world\n"
     ]
    }
   ],
   "source": [
    "print(\"Hello world\")"
   ]
  },
  {
   "cell_type": "code",
   "execution_count": 3,
   "id": "dbd71ca2",
   "metadata": {},
   "outputs": [
    {
     "name": "stdout",
     "output_type": "stream",
     "text": [
      "300\n"
     ]
    }
   ],
   "source": [
    "#first notebook\n",
    "x =100\n",
    "y = 200\n",
    "z = x+y\n",
    "print(z)"
   ]
  },
  {
   "cell_type": "markdown",
   "id": "13ca9a49",
   "metadata": {},
   "source": [
    "# Second notebook\n",
    "\n",
    "a small chatbot project to get exited"
   ]
  },
  {
   "cell_type": "code",
   "execution_count": 4,
   "id": "d9e4f19f",
   "metadata": {},
   "outputs": [
    {
     "name": "stdout",
     "output_type": "stream",
     "text": [
      "Bot: Hello! How can I assist you today?\n",
      "User: hello\n",
      "Bot: I'm sorry, but I don't understand.\n",
      "User: Hello\n",
      "Bot: Could you please rephrase that?\n",
      "User: help me\n",
      "Bot: Could you please rephrase that?\n",
      "User: What is science?\n",
      "Bot: Could you please rephrase that?\n",
      "User: How are you?\n",
      "Bot: I'm still learning. Can you try again?\n",
      "User: hi\n",
      "Bot: Hi there!\n",
      "User: how are you\n",
      "Bot: I'm good, thanks!\n",
      "User: bye\n",
      "Bot: Goodbye! Have a great day!\n"
     ]
    }
   ],
   "source": [
    "import random\n",
    "\n",
    "# Define a dictionary of possible user inputs and corresponding bot responses\n",
    "bot_responses = {\n",
    "    \"hi\": [\"Hello!\", \"Hi there!\", \"Hey!\"],\n",
    "    \"how are you\": [\"I'm good, thanks!\", \"I'm doing well!\", \"All is well!\"],\n",
    "    \"bye\": [\"Goodbye!\", \"Farewell!\", \"Take care!\"],\n",
    "    \"default\": [\"I'm sorry, but I don't understand.\", \"Could you please rephrase that?\", \"I'm still learning. Can you try again?\"]\n",
    "}\n",
    "\n",
    "# Function to generate a response from the bot\n",
    "def generate_response(user_input):\n",
    "    # Convert the user input to lowercase\n",
    "    user_input = user_input.lower()\n",
    "    \n",
    "    # Check if the user input is in the bot_responses dictionary\n",
    "    if user_input in bot_responses:\n",
    "        bot_response = random.choice(bot_responses[user_input])\n",
    "    else:\n",
    "        bot_response = random.choice(bot_responses[\"default\"])\n",
    "    \n",
    "    return bot_response\n",
    "\n",
    "# Main chat loop\n",
    "print(\"Bot: Hello! How can I assist you today?\")\n",
    "while True:\n",
    "    user_input = input(\"User: \")\n",
    "    if user_input.lower() == \"bye\":\n",
    "        print(\"Bot: Goodbye! Have a great day!\")\n",
    "        break\n",
    "    \n",
    "    bot_response = generate_response(user_input)\n",
    "    print(\"Bot:\", bot_response)\n"
   ]
  },
  {
   "cell_type": "code",
   "execution_count": 5,
   "id": "b2e9ca8a",
   "metadata": {},
   "outputs": [
    {
     "name": "stdout",
     "output_type": "stream",
     "text": [
      "Enter what is required: bitch\n"
     ]
    }
   ],
   "source": [
    "a = input (\"Enter what is required: \")"
   ]
  },
  {
   "cell_type": "code",
   "execution_count": 6,
   "id": "b9fd6e41",
   "metadata": {},
   "outputs": [],
   "source": [
    "def test_function():\n",
    "    print(\"function is being called\")"
   ]
  },
  {
   "cell_type": "code",
   "execution_count": 7,
   "id": "e27b8fb7",
   "metadata": {},
   "outputs": [
    {
     "name": "stdout",
     "output_type": "stream",
     "text": [
      "function is being called\n"
     ]
    }
   ],
   "source": [
    "test_function()"
   ]
  },
  {
   "cell_type": "code",
   "execution_count": 8,
   "id": "bbc5ee67",
   "metadata": {},
   "outputs": [],
   "source": [
    "def argument_function(number):\n",
    "    print(number**2)"
   ]
  },
  {
   "cell_type": "code",
   "execution_count": 9,
   "id": "ee270b71",
   "metadata": {},
   "outputs": [
    {
     "name": "stdout",
     "output_type": "stream",
     "text": [
      "10000\n"
     ]
    }
   ],
   "source": [
    "argument_function(100)"
   ]
  },
  {
   "cell_type": "code",
   "execution_count": 10,
   "id": "e244b42c",
   "metadata": {},
   "outputs": [],
   "source": [
    "def multiargu_function(number,power):\n",
    "    solution = number**2\n",
    "    print(solution)"
   ]
  },
  {
   "cell_type": "code",
   "execution_count": 11,
   "id": "830561cc",
   "metadata": {},
   "outputs": [
    {
     "name": "stdout",
     "output_type": "stream",
     "text": [
      "10000\n"
     ]
    }
   ],
   "source": [
    "multiargu_function(100,3)"
   ]
  },
  {
   "cell_type": "code",
   "execution_count": 12,
   "id": "fd2a9c25",
   "metadata": {},
   "outputs": [],
   "source": [
    "#arbitarary argument function\n",
    "#tuple can be used to make it simple\n",
    "\n",
    "def arbitrary_function(*variable):\n",
    "    solution = variable[0]+variable[2]*variable[3]-variable[1]\n",
    "    print(solution)"
   ]
  },
  {
   "cell_type": "code",
   "execution_count": 13,
   "id": "55bd84d7",
   "metadata": {},
   "outputs": [
    {
     "name": "stdout",
     "output_type": "stream",
     "text": [
      "23\n"
     ]
    }
   ],
   "source": [
    "its_a_tuple = (1,2,3,8,10)\n",
    "arbitrary_function(*its_a_tuple)\n",
    "\n"
   ]
  },
  {
   "cell_type": "code",
   "execution_count": 25,
   "id": "84f0899b",
   "metadata": {},
   "outputs": [],
   "source": [
    "#arbitarary keyword argument\n",
    "def arbkey_function(**variable):\n",
    "    first_number = variable['variable1']\n",
    "    second_string = variable['variable2']\n",
    "    print(\"first: \"+first_number+\" Second:\"+second_string)\n"
   ]
  },
  {
   "cell_type": "code",
   "execution_count": 30,
   "id": "751aa165",
   "metadata": {},
   "outputs": [
    {
     "name": "stdout",
     "output_type": "stream",
     "text": [
      "first: 1234 Second:hello\n"
     ]
    }
   ],
   "source": [
    "\n",
    "arbkey_function(variable1='1234',variable2='hello')"
   ]
  },
  {
   "cell_type": "code",
   "execution_count": null,
   "id": "faf99e79",
   "metadata": {},
   "outputs": [],
   "source": []
  }
 ],
 "metadata": {
  "kernelspec": {
   "display_name": "Python 3 (ipykernel)",
   "language": "python",
   "name": "python3"
  },
  "language_info": {
   "codemirror_mode": {
    "name": "ipython",
    "version": 3
   },
   "file_extension": ".py",
   "mimetype": "text/x-python",
   "name": "python",
   "nbconvert_exporter": "python",
   "pygments_lexer": "ipython3",
   "version": "3.10.9"
  }
 },
 "nbformat": 4,
 "nbformat_minor": 5
}
